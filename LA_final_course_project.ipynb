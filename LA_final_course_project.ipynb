{
  "nbformat": 4,
  "nbformat_minor": 0,
  "metadata": {
    "colab": {
      "provenance": []
    },
    "kernelspec": {
      "name": "python3",
      "display_name": "Python 3"
    },
    "language_info": {
      "name": "python"
    }
  },
  "cells": [
    {
      "cell_type": "markdown",
      "source": [
        "### The Perron-Frobenius Theorem implementation\n"
      ],
      "metadata": {
        "id": "7f7doqRInUZP"
      }
    },
    {
      "cell_type": "code",
      "source": [
        "from scipy.sparse import dok_matrix\n",
        "import pandas as pd\n",
        "import numpy as np\n",
        "from scipy.sparse.linalg import eigs\n",
        "from scipy.sparse import dok_matrix\n",
        "from scipy.linalg import solve"
      ],
      "metadata": {
        "id": "2rSYT7iiM6Pm"
      },
      "execution_count": null,
      "outputs": []
    },
    {
      "cell_type": "code",
      "source": [
        "df = pd.read_csv('matches.csv', delimiter=',')"
      ],
      "metadata": {
        "id": "S4YvXCpwNAGU"
      },
      "execution_count": null,
      "outputs": []
    },
    {
      "cell_type": "markdown",
      "source": [
        "Constructing an adjency matrix for teams of season "
      ],
      "metadata": {
        "id": "lCImHQd3nfXB"
      }
    },
    {
      "cell_type": "code",
      "source": [
        "results_dict22, results_dict21 = {}, {}\n",
        "teams22, teams21 = [], []\n",
        "\n",
        "for index, row in df.iterrows():\n",
        "    team = row['team']\n",
        "    opponent = row['opponent']\n",
        "    result = row['result']\n",
        "\n",
        "    if row['season'] == 2022:\n",
        "        if team not in teams22: teams22.append(team)\n",
        "        if team in results_dict22:\n",
        "            results_dict22[team].append({'opponent': opponent, 'result': result})\n",
        "        else:\n",
        "            results_dict22[team] = [{'opponent': opponent, 'result': result}]\n",
        "    else:\n",
        "        if team not in teams21: teams21.append(team)\n",
        "        if team in results_dict21:\n",
        "            results_dict21[team].append({'opponent': opponent, 'result': result})\n",
        "        else:\n",
        "            results_dict21[team] = [{'opponent': opponent, 'result': result}]\n",
        "\n",
        "\n",
        "def trimmed(team_key, diict, tms):\n",
        "    return (team_key, [entry for entry in diict[team_key] if entry['opponent'] in tms])\n",
        "\n",
        "teams_dict22 = dict([trimmed(team, results_dict22, teams22) for team in teams22])\n",
        "teams_dict21 = dict([trimmed(team, results_dict21, teams21) for team in teams21])\n",
        "\n",
        "\n",
        "def create_matrix(tms, tms_dict):\n",
        "    n = len(tms)\n",
        "    M = dok_matrix((n,n))\n",
        "    for i in range(n):\n",
        "        team = tms[i]\n",
        "        games = tms_dict[team]\n",
        "        for game in games:\n",
        "            opponent = game['opponent']\n",
        "            win_or_loss = game['result']\n",
        "            if win_or_loss == \"W\":\n",
        "                j = tms.index(opponent)\n",
        "                M[i,j] = M[i,j] + 1 \n",
        "            if win_or_loss == \"L\":\n",
        "                j = tms.index(opponent)\n",
        "                M[j,i] = M[j,i] + 1\n",
        "    return M\n",
        "M21 = create_matrix(teams21, teams_dict21)\n",
        "M22 = create_matrix(teams22, teams_dict22)\n",
        "# print('SEASON 2022')\n",
        "# print(teams22)\n",
        "# print(M22.toarray().astype(int))\n",
        "# print('SEASON 2021')\n",
        "# print(teams21)\n",
        "# print(M21.toarray().astype(int))"
      ],
      "metadata": {
        "id": "hkMtcVCblHHg"
      },
      "execution_count": null,
      "outputs": []
    },
    {
      "cell_type": "markdown",
      "source": [
        "Adjency matrix for teams of season 20/21 EPL:"
      ],
      "metadata": {
        "id": "iHKbAm3Cmb8Y"
      }
    },
    {
      "cell_type": "code",
      "source": [
        "print(teams21)\n",
        "M21.toarray().astype(int)"
      ],
      "metadata": {
        "colab": {
          "base_uri": "https://localhost:8080/"
        },
        "id": "wJ_1MOb-lau7",
        "outputId": "68db5005-4bc5-4cd6-aefb-14bcf3f6128d"
      },
      "execution_count": null,
      "outputs": [
        {
          "output_type": "stream",
          "name": "stdout",
          "text": [
            "['Manchester City', 'Manchester United', 'Liverpool', 'Chelsea', 'Leicester City', 'West Ham United', 'Tottenham Hotspur', 'Arsenal', 'Leeds United', 'Everton', 'Aston Villa', 'Newcastle United', 'Wolverhampton Wanderers', 'Crystal Palace', 'Southampton', 'Brighton and Hove Albion', 'Burnley', 'Fulham', 'West Bromwich Albion', 'Sheffield United']\n"
          ]
        },
        {
          "output_type": "execute_result",
          "data": {
            "text/plain": [
              "array([[0, 0, 2, 2, 2, 1, 1, 4, 0, 4, 4, 2, 2, 4, 4, 1, 4, 4, 1, 2],\n",
              "       [1, 0, 0, 0, 0, 0, 0, 0, 1, 1, 2, 0, 0, 0, 2, 0, 2, 1, 0, 0],\n",
              "       [0, 1, 0, 2, 2, 2, 2, 4, 2, 0, 2, 0, 2, 4, 2, 0, 2, 0, 1, 2],\n",
              "       [2, 0, 2, 0, 2, 2, 1, 0, 2, 2, 0, 2, 0, 4, 0, 1, 4, 4, 0, 2],\n",
              "       [2, 1, 2, 2, 0, 0, 1, 2, 2, 0, 2, 1, 1, 2, 2, 2, 2, 2, 2, 2],\n",
              "       [0, 0, 0, 0, 2, 0, 0, 0, 2, 1, 2, 0, 0, 1, 1, 0, 2, 1, 0, 0],\n",
              "       [1, 0, 0, 0, 1, 0, 0, 1, 1, 0, 1, 0, 0, 1, 2, 0, 2, 1, 0, 0],\n",
              "       [0, 1, 0, 4, 2, 1, 1, 0, 2, 0, 0, 2, 0, 2, 2, 2, 0, 2, 2, 2],\n",
              "       [2, 0, 0, 0, 2, 0, 1, 0, 0, 2, 2, 2, 0, 2, 4, 0, 4, 4, 2, 2],\n",
              "       [0, 0, 2, 2, 2, 1, 1, 4, 2, 0, 0, 0, 2, 2, 2, 1, 0, 2, 2, 1],\n",
              "       [0, 0, 2, 2, 2, 0, 1, 4, 2, 2, 0, 1, 1, 2, 2, 0, 0, 4, 1, 1],\n",
              "       [0, 0, 0, 0, 1, 0, 0, 0, 0, 2, 0, 0, 0, 1, 1, 0, 2, 1, 0, 0],\n",
              "       [0, 0, 0, 1, 0, 0, 0, 2, 2, 0, 0, 0, 0, 1, 1, 0, 0, 2, 0, 0],\n",
              "       [0, 1, 0, 0, 0, 0, 0, 0, 2, 0, 2, 1, 1, 0, 2, 1, 0, 2, 2, 2],\n",
              "       [0, 0, 2, 0, 0, 0, 0, 0, 0, 2, 2, 1, 0, 2, 0, 1, 4, 2, 1, 2],\n",
              "       [1, 0, 1, 0, 0, 0, 0, 0, 2, 0, 1, 0, 0, 0, 1, 0, 0, 0, 0, 0],\n",
              "       [0, 0, 2, 0, 0, 0, 0, 2, 0, 2, 2, 0, 2, 4, 0, 0, 0, 2, 0, 1],\n",
              "       [0, 0, 2, 0, 2, 0, 0, 0, 0, 2, 0, 0, 0, 0, 0, 0, 0, 0, 1, 1],\n",
              "       [0, 0, 0, 1, 0, 0, 0, 0, 0, 0, 0, 0, 0, 0, 1, 0, 0, 0, 0, 0],\n",
              "       [0, 0, 0, 0, 0, 0, 0, 0, 0, 1, 1, 0, 0, 0, 0, 0, 1, 0, 0, 0]])"
            ]
          },
          "metadata": {},
          "execution_count": 50
        }
      ]
    },
    {
      "cell_type": "markdown",
      "source": [
        "Finding the eigensystem and building a ranking table:"
      ],
      "metadata": {
        "id": "lKHXjtHVCUJ0"
      }
    },
    {
      "cell_type": "code",
      "source": [
        "val,vec = eigs(M21, which='LM', k=1)\n",
        "vec = np.ndarray.flatten(abs(vec))\n",
        "sorted_indices = vec.argsort()\n",
        "ranked1 = [(teams21[i], vec[i]) for i in sorted_indices]\n",
        "ranked1.reverse()\n",
        "ranked1"
      ],
      "metadata": {
        "colab": {
          "base_uri": "https://localhost:8080/"
        },
        "id": "H4ddq3k-lV4Z",
        "outputId": "10480aff-fa3a-46c8-e55a-9addf4fd8ea7"
      },
      "execution_count": null,
      "outputs": [
        {
          "output_type": "execute_result",
          "data": {
            "text/plain": [
              "[('Manchester City', 0.4613666100654865),\n",
              " ('Leicester City', 0.32039824069263784),\n",
              " ('Chelsea', 0.31784111819233385),\n",
              " ('Liverpool', 0.3121575251730876),\n",
              " ('Aston Villa', 0.29765497036018046),\n",
              " ('Leeds United', 0.2897087541661704),\n",
              " ('Everton', 0.27265119797328236),\n",
              " ('Arsenal', 0.23510144865311716),\n",
              " ('Southampton', 0.17841637953728245),\n",
              " ('Burnley', 0.17656567962621578),\n",
              " ('West Ham United', 0.15728947443755562),\n",
              " ('Tottenham Hotspur', 0.14043099284464003),\n",
              " ('Manchester United', 0.13423059031119258),\n",
              " ('Crystal Palace', 0.1271772799815889),\n",
              " ('Wolverhampton Wanderers', 0.10375765494052105),\n",
              " ('Fulham', 0.10367997807707408),\n",
              " ('Brighton and Hove Albion', 0.1009213843641385),\n",
              " ('Newcastle United', 0.08983570647632995),\n",
              " ('Sheffield United', 0.04121093787078994),\n",
              " ('West Bromwich Albion', 0.027382524810271203)]"
            ]
          },
          "metadata": {},
          "execution_count": 52
        }
      ]
    },
    {
      "cell_type": "markdown",
      "source": [
        "### Colley's ranking algorithm implementation"
      ],
      "metadata": {
        "id": "eQNQRdfEzvDT"
      }
    },
    {
      "cell_type": "markdown",
      "source": [
        "Constructing Colley's matrix:"
      ],
      "metadata": {
        "id": "n3xdUkStBDm5"
      }
    },
    {
      "cell_type": "code",
      "source": [
        "def colley(i,j, tms, tms_dict):\n",
        "    teami = tms[i]\n",
        "    games = tms_dict[teami]\n",
        "    if i==j: return len(games)+2\n",
        "    else:\n",
        "        games = tms_dict[teami]\n",
        "        teamj = tms[j]\n",
        "        gamesij = [game['opponent'] for game in games if game['opponent']==teamj]\n",
        "        return -len(gamesij)\n",
        "\n",
        "\n",
        "def total_num_plays(tms, tms_dict):\n",
        "    n = len(tms)\n",
        "    M2 = np.zeros((n,n))\n",
        "    for i in range(n):\n",
        "        for j in range(n):\n",
        "            M2[i,j] = colley(i, j, tms, tms_dict)\n",
        "    return M2\n",
        "\n",
        "\n",
        "total22 = total_num_plays(teams22, teams_dict22)\n",
        "total21 = total_num_plays(teams21, teams_dict21)\n",
        "print('Total number of plays for each team in SEASON 2021')\n",
        "for elem in total21: print(*elem)\n",
        "# print(*total21)\n",
        "# print('Total number of plays for each team in SEASON 2022')\n",
        "# print(total22)\n"
      ],
      "metadata": {
        "colab": {
          "base_uri": "https://localhost:8080/"
        },
        "id": "hAD2wEWrzyzO",
        "outputId": "86566016-e594-49f7-d0cd-99b446d5ccb3"
      },
      "execution_count": null,
      "outputs": [
        {
          "output_type": "stream",
          "name": "stdout",
          "text": [
            "Total number of plays for each team in SEASON 2021\n",
            "24.0 0.0 -2.0 -2.0 -2.0 0.0 0.0 -2.0 -2.0 -2.0 -2.0 0.0 0.0 -2.0 -2.0 0.0 -2.0 -2.0 0.0 0.0\n",
            "-2.0 26.0 -2.0 -2.0 -2.0 0.0 0.0 -2.0 -2.0 -2.0 -2.0 0.0 0.0 -2.0 -2.0 0.0 -2.0 -2.0 0.0 0.0\n",
            "-2.0 0.0 24.0 -2.0 -2.0 0.0 0.0 -2.0 -2.0 -2.0 -2.0 0.0 0.0 -2.0 -2.0 0.0 -2.0 -2.0 0.0 0.0\n",
            "-2.0 0.0 -2.0 24.0 -2.0 0.0 0.0 -2.0 -2.0 -2.0 -2.0 0.0 0.0 -2.0 -2.0 0.0 -2.0 -2.0 0.0 0.0\n",
            "-2.0 0.0 -2.0 -2.0 24.0 0.0 0.0 -2.0 -2.0 -2.0 -2.0 0.0 0.0 -2.0 -2.0 0.0 -2.0 -2.0 0.0 0.0\n",
            "-2.0 0.0 -2.0 -2.0 -2.0 26.0 0.0 -2.0 -2.0 -2.0 -2.0 0.0 0.0 -2.0 -2.0 0.0 -2.0 -2.0 0.0 0.0\n",
            "-2.0 0.0 -2.0 -2.0 -2.0 0.0 26.0 -2.0 -2.0 -2.0 -2.0 0.0 0.0 -2.0 -2.0 0.0 -2.0 -2.0 0.0 0.0\n",
            "-2.0 0.0 -2.0 -2.0 -2.0 0.0 0.0 24.0 -2.0 -2.0 -2.0 0.0 0.0 -2.0 -2.0 0.0 -2.0 -2.0 0.0 0.0\n",
            "-2.0 0.0 -2.0 -2.0 -2.0 0.0 0.0 -2.0 24.0 -2.0 -2.0 0.0 0.0 -2.0 -2.0 0.0 -2.0 -2.0 0.0 0.0\n",
            "-2.0 0.0 -2.0 -2.0 -2.0 0.0 0.0 -2.0 -2.0 24.0 -2.0 0.0 0.0 -2.0 -2.0 0.0 -2.0 -2.0 0.0 0.0\n",
            "-2.0 0.0 -2.0 -2.0 -2.0 0.0 0.0 -2.0 -2.0 -2.0 24.0 0.0 0.0 -2.0 -2.0 0.0 -2.0 -2.0 0.0 0.0\n",
            "-2.0 0.0 -2.0 -2.0 -2.0 0.0 0.0 -2.0 -2.0 -2.0 -2.0 26.0 0.0 -2.0 -2.0 0.0 -2.0 -2.0 0.0 0.0\n",
            "-2.0 0.0 -2.0 -2.0 -2.0 0.0 0.0 -2.0 -2.0 -2.0 -2.0 0.0 26.0 -2.0 -2.0 0.0 -2.0 -2.0 0.0 0.0\n",
            "-2.0 0.0 -2.0 -2.0 -2.0 0.0 0.0 -2.0 -2.0 -2.0 -2.0 0.0 0.0 24.0 -2.0 0.0 -2.0 -2.0 0.0 0.0\n",
            "-2.0 0.0 -2.0 -2.0 -2.0 0.0 0.0 -2.0 -2.0 -2.0 -2.0 0.0 0.0 -2.0 24.0 0.0 -2.0 -2.0 0.0 0.0\n",
            "-2.0 0.0 -2.0 -2.0 -2.0 0.0 0.0 -2.0 -2.0 -2.0 -2.0 0.0 0.0 -2.0 -2.0 26.0 -2.0 -2.0 0.0 0.0\n",
            "-2.0 0.0 -2.0 -2.0 -2.0 0.0 0.0 -2.0 -2.0 -2.0 -2.0 0.0 0.0 -2.0 -2.0 0.0 24.0 -2.0 0.0 0.0\n",
            "-2.0 0.0 -2.0 -2.0 -2.0 0.0 0.0 -2.0 -2.0 -2.0 -2.0 0.0 0.0 -2.0 -2.0 0.0 -2.0 24.0 0.0 0.0\n",
            "-2.0 0.0 -2.0 -2.0 -2.0 0.0 0.0 -2.0 -2.0 -2.0 -2.0 0.0 0.0 -2.0 -2.0 0.0 -2.0 -2.0 26.0 0.0\n",
            "-2.0 0.0 -2.0 -2.0 -2.0 0.0 0.0 -2.0 -2.0 -2.0 -2.0 0.0 0.0 -2.0 -2.0 0.0 -2.0 -2.0 0.0 26.0\n"
          ]
        }
      ]
    },
    {
      "cell_type": "markdown",
      "source": [
        "Finding vector $\\vec{b}$"
      ],
      "metadata": {
        "id": "QH0Nimw3BHo9"
      }
    },
    {
      "cell_type": "code",
      "source": [
        "def colley_b(i, tms, tms_dict):\n",
        "    games = tms_dict[tms[i]]\n",
        "    n_wins = len([game for game in games if game['result']=='W'])\n",
        "    n_losses = len([game for game in games if game['result']=='L'])\n",
        "    return 1+0.5*(n_wins-n_losses)\n",
        "b = np.array([colley_b(i, teams21, teams_dict21) for i in range(len(teams21))])"
      ],
      "metadata": {
        "id": "Nimc0odR1e-5"
      },
      "execution_count": null,
      "outputs": []
    },
    {
      "cell_type": "markdown",
      "source": [
        "Solving a matrix equation to find the ranking vector $\\vec{r}$"
      ],
      "metadata": {
        "id": "LGsBAJ7hBNBq"
      }
    },
    {
      "cell_type": "code",
      "source": [
        "vec = solve(total21,b)\n",
        "\n",
        "vec = np.ndarray.flatten(abs(vec))\n",
        "sorted_indices = vec.argsort()\n",
        "ranked2 = [(teams21[i], vec[i]) for i in sorted_indices]\n",
        "ranked2.reverse()\n",
        "ranked2"
      ],
      "metadata": {
        "colab": {
          "base_uri": "https://localhost:8080/"
        },
        "id": "zPlrfFWb20VX",
        "outputId": "4859bc76-7735-49ca-d425-3db588a02adc"
      },
      "execution_count": null,
      "outputs": [
        {
          "output_type": "execute_result",
          "data": {
            "text/plain": [
              "[('Manchester City', 0.7692307692307692),\n",
              " ('Manchester United', 0.6153846153846152),\n",
              " ('West Ham United', 0.596153846153846),\n",
              " ('Chelsea', 0.5769230769230769),\n",
              " ('Leeds United', 0.5769230769230769),\n",
              " ('Aston Villa', 0.5576923076923076),\n",
              " ('Leicester City', 0.5384615384615384),\n",
              " ('Liverpool', 0.5384615384615383),\n",
              " ('Tottenham Hotspur', 0.5384615384615383),\n",
              " ('Everton', 0.5192307692307692),\n",
              " ('Wolverhampton Wanderers', 0.46153846153846145),\n",
              " ('Southampton', 0.44230769230769224),\n",
              " ('Brighton and Hove Albion', 0.44230769230769224),\n",
              " ('Arsenal', 0.4423076923076922),\n",
              " ('Burnley', 0.4423076923076922),\n",
              " ('Newcastle United', 0.423076923076923),\n",
              " ('Crystal Palace', 0.3076923076923076),\n",
              " ('Fulham', 0.2884615384615384),\n",
              " ('West Bromwich Albion', 0.24999999999999994),\n",
              " ('Sheffield United', 0.17307692307692302)]"
            ]
          },
          "metadata": {},
          "execution_count": 55
        }
      ]
    }
  ]
}