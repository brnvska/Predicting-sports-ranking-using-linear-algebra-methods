{
  "nbformat": 4,
  "nbformat_minor": 0,
  "metadata": {
    "colab": {
      "provenance": []
    },
    "kernelspec": {
      "name": "python3",
      "display_name": "Python 3"
    },
    "language_info": {
      "name": "python"
    }
  },
  "cells": [
    {
      "cell_type": "markdown",
      "source": [
        "Remember an example:\n",
        "* Team zero beat team one twice and team two once,\n",
        "* Team one beat team two once,\n",
        "* Team two beat team zero and team one once each."
      ],
      "metadata": {
        "id": "2pW5Da3Zi5rm"
      }
    },
    {
      "cell_type": "markdown",
      "source": [
        "One way to represent the data we see is with a directed graph:\n",
        "\n",
        "\n",
        "![image.png](data:image/png;base64,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)\n",
        "\n",
        "(Nodes are labeled by the teams. We place an edge from team  to team  and labeling that edge with the number of times that team  beat team )"
      ],
      "metadata": {
        "id": "E-yjVKXDi-fA"
      }
    },
    {
      "cell_type": "markdown",
      "source": [
        "Now let’s form an adjacency matrix associated with our directed graph:\n",
        "\n",
        "![image.png](data:image/png;base64,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)\n"
      ],
      "metadata": {
        "id": "QcyrvhM9jbf7"
      }
    },
    {
      "cell_type": "markdown",
      "source": [
        "Now let us compute **eigen-ranking** of the teams with python:"
      ],
      "metadata": {
        "id": "8DT0ks7CjzOe"
      }
    },
    {
      "cell_type": "code",
      "source": [
        "# computing eigen-ranking with python:\n",
        "\n",
        "M = [\n",
        "    [0,2,1],\n",
        "    [0,0,1],\n",
        "    [1,1,0]\n",
        "]"
      ],
      "metadata": {
        "id": "Nu-bihgZkARA"
      },
      "execution_count": 1,
      "outputs": []
    },
    {
      "cell_type": "markdown",
      "source": [
        "According to the theory, this should have a unique positive eigenvalue whose magnitude is larger than the magnitude of any other eigenvalue. There should be an associated eigenvector with all positive entries. Of course, if $\\vec{v}$ is an eigenvector, then so is $-\\vec{v}$ (or any constant multiple). The theory tells us that we might as well just take the absolute value."
      ],
      "metadata": {
        "id": "T3hK0KV1kFz6"
      }
    },
    {
      "cell_type": "markdown",
      "source": [
        "Here's the eigensystem for our simple example:"
      ],
      "metadata": {
        "id": "C3nO8naIkUyr"
      }
    },
    {
      "cell_type": "code",
      "source": [
        "from scipy.linalg import eig\n",
        "eig(M)"
      ],
      "metadata": {
        "colab": {
          "base_uri": "https://localhost:8080/"
        },
        "id": "Z9OnqzsnkTiI",
        "outputId": "42205fd1-3905-4004-eb58-4a7aed14087d"
      },
      "execution_count": 2,
      "outputs": [
        {
          "output_type": "execute_result",
          "data": {
            "text/plain": [
              "(array([-0.88464618+0.58974281j, -0.88464618-0.58974281j,\n",
              "         1.76929235+0.j        ]),\n",
              " array([[ 0.63083491+0.j        ,  0.63083491-0.j        ,\n",
              "         -0.72356278+0.j        ],\n",
              "        [-0.25319498+0.46743038j, -0.25319498-0.46743038j,\n",
              "         -0.33963778+0.j        ],\n",
              "        [-0.05167574-0.56283042j, -0.05167574+0.56283042j,\n",
              "         -0.60091853+0.j        ]]))"
            ]
          },
          "metadata": {},
          "execution_count": 2
        }
      ]
    },
    {
      "cell_type": "markdown",
      "source": [
        "The result is a pair: a list of the eigenvalues and a matrix whose columns are the eigenvectors. Note that the last displayed eigenvalue, about 1.769, has zero imaginary part and is clearly larger in absolute value than the other two, which are complex conjugates. The corresponding eigenvector has components all with the same sign. The absolute value of that eigenvector should be reasonable strengths associated with the teams, approximately: 0.7235, 0.3396, 0.6009.\n",
        " \n",
        "As expected, the team 0 is the strongest, while the team 1 is the weakest and team 2 is in the middle."
      ],
      "metadata": {
        "id": "BCTaDwcvkXZR"
      }
    },
    {
      "cell_type": "markdown",
      "source": [
        "Now let us show how the Colley`s technique works for our simple example:"
      ],
      "metadata": {
        "id": "MFELFIA0k9h5"
      }
    },
    {
      "cell_type": "markdown",
      "source": [
        "Colley's matrix $C$ and the vector $b$ associated with this set of outcomes is"
      ],
      "metadata": {
        "id": "DEUNKoJJlG28"
      }
    },
    {
      "cell_type": "code",
      "source": [
        "# Computing Colley's ranking with Python\n",
        "\n",
        "C=[\n",
        "    [6,-2,-2],\n",
        "    [-2,6,-2],\n",
        "    [-2,-2,6]\n",
        "]\n",
        "b = [1+(3-1)/2,1+(1-3)/2,1+(2-2)/2]"
      ],
      "metadata": {
        "id": "w7IUtAhBk4Xy"
      },
      "execution_count": 3,
      "outputs": []
    },
    {
      "cell_type": "markdown",
      "source": [
        "Here's the solution:"
      ],
      "metadata": {
        "id": "wOBSo45rlwwl"
      }
    },
    {
      "cell_type": "code",
      "source": [
        "from scipy.linalg import solve\n",
        "solve(C,b)"
      ],
      "metadata": {
        "colab": {
          "base_uri": "https://localhost:8080/"
        },
        "id": "w9lnTFeLlxUh",
        "outputId": "5e747492-9dca-46b5-cdc2-9dae49134bce"
      },
      "execution_count": 4,
      "outputs": [
        {
          "output_type": "execute_result",
          "data": {
            "text/plain": [
              "array([0.625, 0.375, 0.5  ])"
            ]
          },
          "metadata": {},
          "execution_count": 4
        }
      ]
    },
    {
      "cell_type": "markdown",
      "source": [
        "And again, we can see that team 0 is the strongest, team 1 is the weakest, while team 2 is in the middle."
      ],
      "metadata": {
        "id": "JffSPO7XlzpP"
      }
    }
  ]
}